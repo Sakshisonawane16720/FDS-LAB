{
  "nbformat": 4,
  "nbformat_minor": 0,
  "metadata": {
    "colab": {
      "name": "FDS_Lab_Assignment5_Probability.ipynb",
      "provenance": [],
      "collapsed_sections": [],
      "authorship_tag": "ABX9TyNnThCPpiUpwGmcJTuNWeVE",
      "include_colab_link": true
    },
    "kernelspec": {
      "name": "python3",
      "display_name": "Python 3"
    },
    "language_info": {
      "name": "python"
    }
  },
  "cells": [
    {
      "cell_type": "markdown",
      "metadata": {
        "id": "view-in-github",
        "colab_type": "text"
      },
      "source": [
        "<a href=\"https://colab.research.google.com/github/Sakshisonawane16720/FDS-LAB/blob/main/FDS_Lab_Assignment5_Probability.ipynb\" target=\"_parent\"><img src=\"https://colab.research.google.com/assets/colab-badge.svg\" alt=\"Open In Colab\"/></a>"
      ]
    },
    {
      "cell_type": "code",
      "metadata": {
        "id": "9Q6g8malPF2E"
      },
      "source": [
        "def probability(noe,ss):\n",
        "  return round(noe/ss,2)"
      ],
      "execution_count": 1,
      "outputs": []
    },
    {
      "cell_type": "code",
      "metadata": {
        "colab": {
          "base_uri": "https://localhost:8080/"
        },
        "id": "mcddVAJVPUFf",
        "outputId": "67e5add8-fb95-4b72-b219-6b6dd8b678e8"
      },
      "source": [
        "#Q. 1. Two dice are rolled, find the probability that the sum is:\n",
        "ss = 36\n",
        "# equal to 1\n",
        "event = 0 \n",
        "print(\"Probability that the sum is equal to 1 is \", probability(event,ss))\n",
        "# equal to 4\n",
        "event = 3 # {(1,3)(2,2)(3,1)}\n",
        "print(\"Probability that the sum is equal to 4 is \", probability(event,ss))\n",
        "# less than 13\n",
        "event = 36 # {(1,1)(1,2)....(6,5),(6,6)}\n",
        "print(\"Probability that the sum is is less than 13 \", probability(event,ss))"
      ],
      "execution_count": 2,
      "outputs": [
        {
          "output_type": "stream",
          "text": [
            "Probability that the sum is equal to 1 is  0.0\n",
            "Probability that the sum is equal to 4 is  0.08\n",
            "Probability that the sum is is less than 13  1.0\n"
          ],
          "name": "stdout"
        }
      ]
    },
    {
      "cell_type": "code",
      "metadata": {
        "colab": {
          "base_uri": "https://localhost:8080/"
        },
        "id": "FP2LVrQfPgrX",
        "outputId": "1a037724-2587-4584-c42c-d543177bef8b"
      },
      "source": [
        "#Q. 2.  In the game of snakes and ladders,\n",
        "ss = 6    # a fair die is thrown.\n",
        "E1 = {1,2,3}    \n",
        "# the events of getting a natural number less than 4\n",
        "E2 = {2,4,6}   \n",
        " # the events of getting an even number\n",
        "E3 = {1,3,5}    \n",
        "# the events of getting an odd number\n",
        "# List the sets representing the following:\n",
        "# E1 or E2 or E3\n",
        "resSet = E1.union(E2,E3)\n",
        "print(\"E1 or E2 or E3 :\", resSet)\n",
        "# E1 and E2 and E3\n",
        "resSet = E1.intersection(E2,E3)\n",
        "print(\"E1 and E2 and E3 :\", resSet)\n",
        "# E1 but not E3\n",
        "resSet = E1 - E3\n",
        "print(\"E1 but not E3 :\", resSet)"
      ],
      "execution_count": 3,
      "outputs": [
        {
          "output_type": "stream",
          "text": [
            "E1 or E2 or E3 : {1, 2, 3, 4, 5, 6}\n",
            "E1 and E2 and E3 : set()\n",
            "E1 but not E3 : {2}\n"
          ],
          "name": "stdout"
        }
      ]
    },
    {
      "cell_type": "code",
      "metadata": {
        "id": "hburdFTQHjac"
      },
      "source": [
        "import math\n",
        "def npr(n,r):\n",
        "  return int(math.factorial(n)/math.factorial(n-r))"
      ],
      "execution_count": 6,
      "outputs": []
    },
    {
      "cell_type": "code",
      "metadata": {
        "colab": {
          "base_uri": "https://localhost:8080/"
        },
        "id": "_txboLpYPmBT",
        "outputId": "2a2e2257-f902-4833-a890-98576ddf3cf3"
      },
      "source": [
        "#Q. 3. How many permutations of the letters of the word \n",
        "# ARTICLE  have consonants in the first and last positions?\n",
        "n = 7 \n",
        "# seven letters in word\n",
        "n1 = 4 \n",
        "# number of consonants in the word\n",
        "# have consonants in first place and last place\n",
        "end_pos = npr(n1,1)*npr(n1-1,1) \n",
        "# since one of the consonants is placed in 1st position we have n1-1 to chose from for last position\n",
        "# permutations for the rest of remaining 5(2 are already placed) letters\n",
        "mid_pos = 1\n",
        "for i in range(5):\n",
        "  mid_pos *= npr(i+1,1)\n",
        "print(\"Permutations possible : \",end_pos*mid_pos)"
      ],
      "execution_count": 7,
      "outputs": [
        {
          "output_type": "stream",
          "text": [
            "Permutations possible :  1440\n"
          ],
          "name": "stdout"
        }
      ]
    },
    {
      "cell_type": "code",
      "metadata": {
        "colab": {
          "base_uri": "https://localhost:8080/"
        },
        "id": "-yN9wFL6PqBE",
        "outputId": "232a736d-cba2-4a9b-967f-9b16fded3715"
      },
      "source": [
        "#Q. 4. Give five letters {A,B,C,D,E}. Find the following:\n",
        "n = 5\n",
        "i = 4\n",
        "#The number of four-letter word sequences.\n",
        "#We can select any n letters for four positions in the word without any restriction\n",
        "while(i>1):\n",
        "  print(\"The number of\",i,\"-letter word sequences: \",npr(5,i))\n",
        "  i -= 1"
      ],
      "execution_count": 8,
      "outputs": [
        {
          "output_type": "stream",
          "text": [
            "The number of 4 -letter word sequences:  120\n",
            "The number of 3 -letter word sequences:  60\n",
            "The number of 2 -letter word sequences:  20\n"
          ],
          "name": "stdout"
        }
      ]
    },
    {
      "cell_type": "code",
      "metadata": {
        "colab": {
          "base_uri": "https://localhost:8080/"
        },
        "id": "uCAUVHDZPr-R",
        "outputId": "a2fccf6f-7ce7-45b0-e0b4-1fbf3c2adb38"
      },
      "source": [
        "#Q. 5. In how many different ways can 4 people be seated in a straight line if two of them insist on sitting next to each other.\n",
        "# There are four different people and two of them want to be seated next to each other so we consider them as one person \n",
        "# that leaves us with three objects to fill up three spaces(3!) \n",
        "mod_pos = npr(3,3)\n",
        "#and since the people we consider as one can seat 2! ways amongst themselves\n",
        "amongst = npr(2,2)\n",
        "print(\"Different ways can 4 people be seated in a straight line if two of them insist on sitting next to each other: \",mod_pos*amongst)"
      ],
      "execution_count": 9,
      "outputs": [
        {
          "output_type": "stream",
          "text": [
            "Different ways can 4 people be seated in a straight line if two of them insist on sitting next to each other:  12\n"
          ],
          "name": "stdout"
        }
      ]
    },
    {
      "cell_type": "code",
      "metadata": {
        "colab": {
          "base_uri": "https://localhost:8080/"
        },
        "id": "otlBSjK7P2UQ",
        "outputId": "0f1bd7a4-0447-4b3a-dc82-d5f8ee3fc44e"
      },
      "source": [
        "#Q. 6.You have 4 math books and 5 history books to put on a shelf that has 5 slots. \n",
        "#In how many ways can the books be shelved if the first three slots are filled \n",
        "#with math books and the next two slots are filled with history books?\n",
        "# We have 4 math books and 3 slots to fill them in\n",
        "slot_math = npr(4,3)\n",
        "# We have 5 history books and 2 slots to fill them in\n",
        "slot_hist = npr(5,2)\n",
        "print(\"Number of ways can the books be shelved :\",slot_math*slot_hist)"
      ],
      "execution_count": 10,
      "outputs": [
        {
          "output_type": "stream",
          "text": [
            "Number of ways can the books be shelved : 480\n"
          ],
          "name": "stdout"
        }
      ]
    },
    {
      "cell_type": "code",
      "metadata": {
        "colab": {
          "base_uri": "https://localhost:8080/"
        },
        "id": "k32VEgsBP7ib",
        "outputId": "1feb4cc4-f309-4025-8c36-3885b01d2a3f"
      },
      "source": [
        "#Q. 7. The shopping mall has a straight row of 5 flagpoles at its main entrance plaza. \n",
        "#It has 3 identical green flags and 2 identical yellow flags.\n",
        "#How many distinct arrangements of flags on the flagpoles are possible?\n",
        "# Suppose GGGYY represents the arrangement of flags.\n",
        "no_arrg = npr(5,5)\n",
        "# As 3 Green flags are identical to each other and 2 Yellow flags are identical to each other.\n",
        "no_arrg = (npr(5,5))/int(math.factorial(3)*math.factorial(2))\n",
        "print(\"Number of distinct arrangements of flags on the flagpoles are possible :\",int(no_arrg))"
      ],
      "execution_count": 11,
      "outputs": [
        {
          "output_type": "stream",
          "text": [
            "Number of distinct arrangements of flags on the flagpoles are possible : 10\n"
          ],
          "name": "stdout"
        }
      ]
    },
    {
      "cell_type": "code",
      "metadata": {
        "colab": {
          "base_uri": "https://localhost:8080/"
        },
        "id": "uEq_R-PzQFIc",
        "outputId": "85404ffc-c3db-449f-adc6-06934481603e"
      },
      "source": [
        "import numpy as np\n",
        "# A Birthday Problem (Collision of Birth Days): \n",
        "#\"If there are ‘n’ people in a room, what is the chance that some pair among them have the same birthday?\"\n",
        "N = 365 # number of days in year\n",
        "# calculating probability of people have different birthdays\n",
        "def p_no_match(n):\n",
        "  individuals_array = np.arange(n)\n",
        "  return np.prod( (N - individuals_array)/N )\n",
        "\n",
        "# for example n = 10 \n",
        "different = p_no_match(10)\n",
        "print(\"P(all different): \",round(different,2),\"\\nP(at least one match)\", round(1 - different,2))"
      ],
      "execution_count": 14,
      "outputs": [
        {
          "output_type": "stream",
          "text": [
            "P(all different):  0.88 \n",
            "P(at least one match) 0.12\n"
          ],
          "name": "stdout"
        }
      ]
    },
    {
      "cell_type": "code",
      "metadata": {
        "id": "7wZ_Oy9uQKoZ"
      },
      "source": [
        "def checkSample(sample):\n",
        "  for e in sample:\n",
        "    if sample.count(e) > 1:\n",
        "      return \"With replacement\"\n",
        "  return \"Without replacement\""
      ],
      "execution_count": 15,
      "outputs": []
    },
    {
      "cell_type": "code",
      "metadata": {
        "colab": {
          "base_uri": "https://localhost:8080/"
        },
        "id": "L0cegI0wQQyZ",
        "outputId": "09582038-6e4f-4c24-fab0-de3fa142ceed"
      },
      "source": [
        "# Q. 9# You have a fair, well-shuffled deck of 52 cards. It consists of four suits.\n",
        "# The suits are clubs, diamonds, hearts and spaces. There are 13 cards in each suit\n",
        "# consisting of 1, 2, 3, 4, 5, 6, 7, 8, 9, J(Jack), Q(Queen), K(king) of that suit.\n",
        "#Three cards are picked at random\n",
        "# Suppose you know that the picked cards are Q of spades(QS), K of hearts(KH) and Q of spades(QS). Can you decide if the sampling was with or without replacement?\n",
        "print(\"{QS,KH,QS} is possible\",checkSample(['QS','KH','QS']))\n",
        "# Suppose  you know that the picked cards are Q of spades(QS), K of hearts(KH) and J of spades(JS). Can you decide if the sampling was with or without replacement?\n",
        "print(\"{QS,KH,JS} is possible\",checkSample(['QS','KH','JS']))"
      ],
      "execution_count": 16,
      "outputs": [
        {
          "output_type": "stream",
          "text": [
            "{QS,KH,QS} is possible With replacement\n",
            "{QS,KH,JS} is possible Without replacement\n"
          ],
          "name": "stdout"
        }
      ]
    },
    {
      "cell_type": "code",
      "metadata": {
        "colab": {
          "base_uri": "https://localhost:8080/"
        },
        "id": "GeUm9Kt-QUF7",
        "outputId": "5bfa8498-7cb2-4767-c70d-fd5f3d28c21f"
      },
      "source": [
        "#Q.10#You have a fair, well-shuffled deck of 52 cards. It consists of four suits.\n",
        "#The suits are clubs, diamonds, hearts and spaces. There are 13 cards in each\n",
        "#suit consisting of 1, 2, 3, 4, 5, 6, 7, 8, 9, J(Jack), Q(Queen), H(king) of that suit.\n",
        "# S=spades, H=Hearts, D=Diamonds, C=Clubs, suppose that you sample four cards without \n",
        "#replacement. Which of the following outcomes are possible? \n",
        "input = [['QS','ID','1C','QD'],['KH','7D','6D','KH'],['QS','7D','6D','KS']]\n",
        "w_r = []\n",
        "wo_r = []\n",
        "for e_list in input:\n",
        "  if checkSample(e_list) == \"With replacement\":\n",
        "    w_r.append(\"POSSIBLE\")\n",
        "    wo_r.append(\"IMPOSSIBLE\")\n",
        "  else:\n",
        "    w_r.append(\"POSSIBLE\")\n",
        "    wo_r.append(\"POSSIBLE\")\n",
        "print(\"With Replacement:\\n\",w_r,\"\\nWithout Replacement:\\n\",wo_r)"
      ],
      "execution_count": 17,
      "outputs": [
        {
          "output_type": "stream",
          "text": [
            "With Replacement:\n",
            " ['POSSIBLE', 'POSSIBLE', 'POSSIBLE'] \n",
            "Without Replacement:\n",
            " ['POSSIBLE', 'IMPOSSIBLE', 'POSSIBLE']\n"
          ],
          "name": "stdout"
        }
      ]
    }
  ]
}